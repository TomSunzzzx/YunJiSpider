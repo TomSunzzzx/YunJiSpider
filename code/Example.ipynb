{
 "cells": [
  {
   "metadata": {},
   "cell_type": "markdown",
   "source": "### 导入模块",
   "id": "108b747afdbbe060"
  },
  {
   "metadata": {
    "collapsed": true,
    "ExecuteTime": {
     "end_time": "2025-10-06T08:16:12.659493Z",
     "start_time": "2025-10-06T08:16:12.188423Z"
    }
   },
   "cell_type": "code",
   "source": "from ElectricityData import active_electric_quantity_data2csv, get_active_electric_quantity_data, get_frozen_electric_quantity_data",
   "id": "61f0cf2090d2a66c",
   "outputs": [],
   "execution_count": 2
  },
  {
   "metadata": {},
   "cell_type": "markdown",
   "source": "### 演示",
   "id": "da5c92dcfa5fd1f2"
  },
  {
   "metadata": {},
   "cell_type": "markdown",
   "source": [
    "##### 请先登录\n",
    "```bash\n",
    "python Login.py\n",
    "```"
   ],
   "id": "a3bf07ceef7f93f3"
  },
  {
   "metadata": {},
   "cell_type": "markdown",
   "source": "* 获取有功电量并保存csv文件，到./Save/{name}.csv",
   "id": "335baae501bd896b"
  },
  {
   "metadata": {
    "ExecuteTime": {
     "end_time": "2025-10-06T08:28:15.088259Z",
     "start_time": "2025-10-06T08:28:14.240729Z"
    }
   },
   "cell_type": "code",
   "source": "active_electric_quantity_data2csv(['2025-09-24 10:00', '2025-09-24 10:15'])",
   "id": "68060b03f5be7d0f",
   "outputs": [
    {
     "name": "stdout",
     "output_type": "stream",
     "text": [
      "ActiveElectricQuantity数据获取成功！\n"
     ]
    }
   ],
   "execution_count": 8
  },
  {
   "metadata": {},
   "cell_type": "markdown",
   "source": "* 获取有功电量数据，不打印表格",
   "id": "947e98a198be0a62"
  },
  {
   "metadata": {
    "ExecuteTime": {
     "end_time": "2025-10-06T08:28:15.807630Z",
     "start_time": "2025-10-06T08:28:15.177001Z"
    }
   },
   "cell_type": "code",
   "source": [
    "data = get_active_electric_quantity_data(['2025-09-24 10:00', '2025-09-24 10:15'], terminal_output=False)\n",
    "display(data)"
   ],
   "id": "95461bc0a52beeef",
   "outputs": [
    {
     "name": "stdout",
     "output_type": "stream",
     "text": [
      "ActiveElectricQuantity数据获取成功！\n"
     ]
    },
    {
     "data": {
      "text/plain": [
       "{'2025-09-24 10:15': {'total_positive_active_electric_quantity': 1.02,\n",
       "  'total_negative_active_electric_quantity': 0}}"
      ]
     },
     "metadata": {},
     "output_type": "display_data",
     "jetTransient": {
      "display_id": null
     }
    }
   ],
   "execution_count": 9
  },
  {
   "metadata": {},
   "cell_type": "markdown",
   "source": "* 默认打印表格",
   "id": "eb712696f7c072ee"
  },
  {
   "metadata": {
    "ExecuteTime": {
     "end_time": "2025-10-06T08:28:16.523294Z",
     "start_time": "2025-10-06T08:28:15.871122Z"
    }
   },
   "cell_type": "code",
   "source": "get_frozen_electric_quantity_data(['2025-09-23', '2025-09-24'])",
   "id": "487e4d2e9ef5766d",
   "outputs": [
    {
     "name": "stdout",
     "output_type": "stream",
     "text": [
      "FrozenElectricQuantity数据获取成功！\n",
      "time          sharp_frozen_electric_quantity    peak_frozen_electric_quantity    flat_frozen_electric_quantity    valley_frozen_electric_quantity    total_real_frozen_electric_quantity\n",
      "----------  --------------------------------  -------------------------------  -------------------------------  ---------------------------------  -------------------------------------\n",
      "2025-09-23                                 0                            12.4                             10.09                              19.1                                   41.59\n",
      "2025-09-24                                 0                            12.14                             8.7                               16.85                                  37.69\n"
     ]
    },
    {
     "data": {
      "text/plain": [
       "{'2025-09-23': {'sharp_frozen_electric_quantity': 0,\n",
       "  'peak_frozen_electric_quantity': 12.4,\n",
       "  'flat_frozen_electric_quantity': 10.09,\n",
       "  'valley_frozen_electric_quantity': 19.1,\n",
       "  'total_real_frozen__electric_quantity': 41.59},\n",
       " '2025-09-24': {'sharp_frozen_electric_quantity': 0,\n",
       "  'peak_frozen_electric_quantity': 12.14,\n",
       "  'flat_frozen_electric_quantity': 8.7,\n",
       "  'valley_frozen_electric_quantity': 16.85,\n",
       "  'total_real_frozen__electric_quantity': 37.69}}"
      ]
     },
     "execution_count": 10,
     "metadata": {},
     "output_type": "execute_result"
    }
   ],
   "execution_count": 10
  },
  {
   "metadata": {},
   "cell_type": "markdown",
   "source": "* 错误范例",
   "id": "6e7d15f88f0a2f28"
  },
  {
   "metadata": {
    "ExecuteTime": {
     "end_time": "2025-10-06T08:28:16.600391Z",
     "start_time": "2025-10-06T08:28:16.587272Z"
    }
   },
   "cell_type": "code",
   "source": "active_electric_quantity_data2csv(['2025-09-24 11:00', '2025-09-24 10:15'])",
   "id": "11e7736c53161b16",
   "outputs": [
    {
     "name": "stdout",
     "output_type": "stream",
     "text": [
      "输入时间范围错误，开始时间不能大于结束时间\n"
     ]
    }
   ],
   "execution_count": 11
  }
 ],
 "metadata": {
  "kernelspec": {
   "display_name": "Python 3",
   "language": "python",
   "name": "python3"
  },
  "language_info": {
   "codemirror_mode": {
    "name": "ipython",
    "version": 2
   },
   "file_extension": ".py",
   "mimetype": "text/x-python",
   "name": "python",
   "nbconvert_exporter": "python",
   "pygments_lexer": "ipython2",
   "version": "2.7.6"
  }
 },
 "nbformat": 4,
 "nbformat_minor": 5
}
